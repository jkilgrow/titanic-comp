{
 "cells": [
  {
   "cell_type": "code",
   "execution_count": null,
   "metadata": {},
   "outputs": [],
   "source": [
    "import numpy as np # linear algebra\n",
    "import pandas as pd # data processing, CSV file I/O (e.g. pd.read_csv)\n",
    "\n",
    "import os\n",
    "for dirname, _, filenames in os.walk('/home/jkilgrow/repos/kaggle/files'):\n",
    "    for filename in filenames:\n",
    "        print(os.path.join(dirname, filename))\n",
    "\n",
    "train_data = pd.read_csv('/home/jkilgrow/repos/kaggle/files/train.csv')\n",
    "train_data.head()\n",
    "test_data = pd.read_csv('/home/jkilgrow/repos/kaggle/files/test.csv')\n",
    "test_data.head()\n",
    "\n",
    "from sklearn.ensemble import RandomForestClassifier\n",
    "from sklearn.ensemble import RandomForestRegressor\n",
    "from sklearn.model_selection import train_test_split\n",
    "from sklearn.metrics import mean_absolute_error\n",
    "\n",
    "def get_mae_for_RandomForestClassifier(num_est, max_depth, train_X, val_X, train_y, val_y):\n",
    "    model = RandomForestClassifier(n_estimators=num_est, max_depth=max_depth, random_state=5)\n",
    "    model.fit(train_X, train_y)\n",
    "    preds_val = model.predict(val_X)\n",
    "    mae = mean_absolute_error(val_y, preds_val)\n",
    "    return(mae)\n",
    "\n",
    "def get_mae_for_RFR(num_est, min_samp_leaf, max_samp, train_X, val_X, train_y, val_y):\n",
    "    model = RandomForestRegressor(n_estimators=num_est, criterion='absolute_error', min_samples_leaf=min_samp_leaf, max_samples=max_samp, random_state=5)\n",
    "    model.fit(train_X, train_y)\n",
    "    pred_val = model.predict(val_X)\n",
    "    mae = mean_absolute_error(val_y, pred_val)\n",
    "    return(mae)\n",
    "\n",
    "y = train_data[\"Survived\"]\n",
    "\n",
    "features = [\"Pclass\", \"Sex\", \"SibSp\", \"Parch\"]\n",
    "\n",
    "X = pd.get_dummies(train_data[features])\n",
    "X_test = pd.get_dummies(test_data[features])\n",
    "\n",
    "train_X, val_X, train_y, val_y = train_test_split(X, y, random_state = 5)\n",
    "\n",
    "num_est_list = [50, 60, 70, 75, 80, 85, 90, 95, 100, 105, 110, 115, 120, 125, 130]\n",
    "max_depth_list = [2, 3, 4, 5, 6, 7, 8, 9, 10]\n",
    "\n",
    "for num_est in num_est_list: \n",
    "    for max_depth in max_depth_list:\n",
    "        my_mae = get_mae_for_RandomForestClassifier(num_est, max_depth, train_X, val_X, train_y, val_y)\n",
    "        print(\"{},{},{:16}\".format(num_est, max_depth, my_mae))\n",
    "\n",
    "# output = pd.DataFrame({'PassengerId': test_data.PassengerId, 'Survived': predictions})\n",
    "# output.to_csv('submission.csv', index=False)\n",
    "print(\"Your submission was successfully saved!\")\n"
   ]
  }
 ],
 "metadata": {
  "kernelspec": {
   "display_name": "Python 3",
   "language": "python",
   "name": "python3"
  },
  "language_info": {
   "codemirror_mode": {
    "name": "ipython",
    "version": 3
   },
   "file_extension": ".py",
   "mimetype": "text/x-python",
   "name": "python",
   "nbconvert_exporter": "python",
   "pygments_lexer": "ipython3",
   "version": "3.11.2"
  }
 },
 "nbformat": 4,
 "nbformat_minor": 2
}
